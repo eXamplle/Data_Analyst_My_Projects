{
 "cells": [
  {
   "cell_type": "markdown",
   "id": "b20006df",
   "metadata": {},
   "source": [
    "# Проект: вариант 1. Cадовников Алексей\n",
    "## Импортируем все необходимые библиотеки"
   ]
  },
  {
   "cell_type": "code",
   "execution_count": 739,
   "id": "24c00187",
   "metadata": {},
   "outputs": [],
   "source": [
    "import pandas as pd\n",
    "import datetime\n",
    "from datetime import timedelta\n",
    "import scipy\n",
    "import seaborn as sns\n",
    "import matplotlib.pyplot as plt\n",
    "%matplotlib inline\n",
    "import plotly\n",
    "import plotly.graph_objs as go\n",
    "import plotly.express as px\n",
    "from plotly.subplots import make_subplots\n",
    "import seaborn as sns\n",
    "import numpy as np\n",
    "import requests\n",
    "import urllib\n",
    "from urllib.parse import urlencode\n",
    "import json\n",
    "plt.style.use('ggplot')\n",
    "\n",
    "from tqdm.auto import tqdm\n",
    "from scipy.stats import norm"
   ]
  },
  {
   "cell_type": "markdown",
   "id": "c0c49a5d",
   "metadata": {},
   "source": [
    "# Задание 1\n",
    "Retention – один из самых важных показателей в компании. Ваша задача – написать функцию, которая будет считать retention игроков (по дням от даты регистрации игрока). Данные лежат в папке shared и иметь структуру и фнкция должна быть написана на python. В ходе решения можно тестировать работу функции как на полном датасете, так и на части (сэмпле) данных."
   ]
  },
  {
   "cell_type": "code",
   "execution_count": 740,
   "id": "99c98e40",
   "metadata": {},
   "outputs": [],
   "source": [
    "#Считываем данные о времени захода пользователей в игру\n",
    "auth_data = pd.read_csv('~/shared/problem1-auth_data.csv', sep = ';')"
   ]
  },
  {
   "cell_type": "code",
   "execution_count": 741,
   "id": "1072470e",
   "metadata": {},
   "outputs": [
    {
     "data": {
      "text/html": [
       "<div>\n",
       "<style scoped>\n",
       "    .dataframe tbody tr th:only-of-type {\n",
       "        vertical-align: middle;\n",
       "    }\n",
       "\n",
       "    .dataframe tbody tr th {\n",
       "        vertical-align: top;\n",
       "    }\n",
       "\n",
       "    .dataframe thead th {\n",
       "        text-align: right;\n",
       "    }\n",
       "</style>\n",
       "<table border=\"1\" class=\"dataframe\">\n",
       "  <thead>\n",
       "    <tr style=\"text-align: right;\">\n",
       "      <th></th>\n",
       "      <th>auth_ts</th>\n",
       "      <th>uid</th>\n",
       "    </tr>\n",
       "  </thead>\n",
       "  <tbody>\n",
       "    <tr>\n",
       "      <th>0</th>\n",
       "      <td>911382223</td>\n",
       "      <td>1</td>\n",
       "    </tr>\n",
       "    <tr>\n",
       "      <th>1</th>\n",
       "      <td>932683089</td>\n",
       "      <td>2</td>\n",
       "    </tr>\n",
       "    <tr>\n",
       "      <th>2</th>\n",
       "      <td>932921206</td>\n",
       "      <td>2</td>\n",
       "    </tr>\n",
       "    <tr>\n",
       "      <th>3</th>\n",
       "      <td>933393015</td>\n",
       "      <td>2</td>\n",
       "    </tr>\n",
       "    <tr>\n",
       "      <th>4</th>\n",
       "      <td>933875379</td>\n",
       "      <td>2</td>\n",
       "    </tr>\n",
       "  </tbody>\n",
       "</table>\n",
       "</div>"
      ],
      "text/plain": [
       "     auth_ts  uid\n",
       "0  911382223    1\n",
       "1  932683089    2\n",
       "2  932921206    2\n",
       "3  933393015    2\n",
       "4  933875379    2"
      ]
     },
     "execution_count": 741,
     "metadata": {},
     "output_type": "execute_result"
    }
   ],
   "source": [
    "#Проверяем как данные выглядят на вид\n",
    "auth_data.head()"
   ]
  },
  {
   "cell_type": "code",
   "execution_count": 742,
   "id": "da8ed2ff",
   "metadata": {},
   "outputs": [
    {
     "data": {
      "text/plain": [
       "auth_ts    int64\n",
       "uid        int64\n",
       "dtype: object"
      ]
     },
     "execution_count": 742,
     "metadata": {},
     "output_type": "execute_result"
    }
   ],
   "source": [
    "#Проверка типов данных\n",
    "auth_data.dtypes"
   ]
  },
  {
   "cell_type": "code",
   "execution_count": 743,
   "id": "d937f1f1",
   "metadata": {},
   "outputs": [
    {
     "data": {
      "text/plain": [
       "(9601013, 2)"
      ]
     },
     "execution_count": 743,
     "metadata": {},
     "output_type": "execute_result"
    }
   ],
   "source": [
    "#Размер данных\n",
    "auth_data.shape\n"
   ]
  },
  {
   "cell_type": "code",
   "execution_count": 744,
   "id": "87695947",
   "metadata": {},
   "outputs": [
    {
     "data": {
      "text/plain": [
       "0"
      ]
     },
     "execution_count": 744,
     "metadata": {},
     "output_type": "execute_result"
    }
   ],
   "source": [
    "#Проверка на дубли в данных\n",
    "auth_data.duplicated().sum()"
   ]
  },
  {
   "cell_type": "code",
   "execution_count": 745,
   "id": "403dab22",
   "metadata": {},
   "outputs": [
    {
     "data": {
      "text/plain": [
       "auth_ts    0\n",
       "uid        0\n",
       "dtype: int64"
      ]
     },
     "execution_count": 745,
     "metadata": {},
     "output_type": "execute_result"
    }
   ],
   "source": [
    "#Проверка на незаполненные строки\n",
    "auth_data.isna().sum()"
   ]
  },
  {
   "cell_type": "code",
   "execution_count": 746,
   "id": "49d3b0eb",
   "metadata": {},
   "outputs": [],
   "source": [
    "#Перевод даты в корректный вид\n",
    "auth_data['auth_ts'] = pd.to_datetime(auth_data['auth_ts'], unit = 's').dt.date"
   ]
  },
  {
   "cell_type": "code",
   "execution_count": 747,
   "id": "add838f2",
   "metadata": {},
   "outputs": [
    {
     "data": {
      "text/html": [
       "<div>\n",
       "<style scoped>\n",
       "    .dataframe tbody tr th:only-of-type {\n",
       "        vertical-align: middle;\n",
       "    }\n",
       "\n",
       "    .dataframe tbody tr th {\n",
       "        vertical-align: top;\n",
       "    }\n",
       "\n",
       "    .dataframe thead th {\n",
       "        text-align: right;\n",
       "    }\n",
       "</style>\n",
       "<table border=\"1\" class=\"dataframe\">\n",
       "  <thead>\n",
       "    <tr style=\"text-align: right;\">\n",
       "      <th></th>\n",
       "      <th>auth_ts</th>\n",
       "      <th>uid</th>\n",
       "    </tr>\n",
       "  </thead>\n",
       "  <tbody>\n",
       "    <tr>\n",
       "      <th>0</th>\n",
       "      <td>1998-11-18</td>\n",
       "      <td>1</td>\n",
       "    </tr>\n",
       "    <tr>\n",
       "      <th>1</th>\n",
       "      <td>1999-07-22</td>\n",
       "      <td>2</td>\n",
       "    </tr>\n",
       "    <tr>\n",
       "      <th>2</th>\n",
       "      <td>1999-07-25</td>\n",
       "      <td>2</td>\n",
       "    </tr>\n",
       "    <tr>\n",
       "      <th>3</th>\n",
       "      <td>1999-07-31</td>\n",
       "      <td>2</td>\n",
       "    </tr>\n",
       "    <tr>\n",
       "      <th>4</th>\n",
       "      <td>1999-08-05</td>\n",
       "      <td>2</td>\n",
       "    </tr>\n",
       "    <tr>\n",
       "      <th>...</th>\n",
       "      <td>...</td>\n",
       "      <td>...</td>\n",
       "    </tr>\n",
       "    <tr>\n",
       "      <th>9601008</th>\n",
       "      <td>2020-09-23</td>\n",
       "      <td>1110618</td>\n",
       "    </tr>\n",
       "    <tr>\n",
       "      <th>9601009</th>\n",
       "      <td>2020-09-23</td>\n",
       "      <td>1110619</td>\n",
       "    </tr>\n",
       "    <tr>\n",
       "      <th>9601010</th>\n",
       "      <td>2020-09-23</td>\n",
       "      <td>1110620</td>\n",
       "    </tr>\n",
       "    <tr>\n",
       "      <th>9601011</th>\n",
       "      <td>2020-09-23</td>\n",
       "      <td>1110621</td>\n",
       "    </tr>\n",
       "    <tr>\n",
       "      <th>9601012</th>\n",
       "      <td>2020-09-23</td>\n",
       "      <td>1110622</td>\n",
       "    </tr>\n",
       "  </tbody>\n",
       "</table>\n",
       "<p>9601013 rows × 2 columns</p>\n",
       "</div>"
      ],
      "text/plain": [
       "            auth_ts      uid\n",
       "0        1998-11-18        1\n",
       "1        1999-07-22        2\n",
       "2        1999-07-25        2\n",
       "3        1999-07-31        2\n",
       "4        1999-08-05        2\n",
       "...             ...      ...\n",
       "9601008  2020-09-23  1110618\n",
       "9601009  2020-09-23  1110619\n",
       "9601010  2020-09-23  1110620\n",
       "9601011  2020-09-23  1110621\n",
       "9601012  2020-09-23  1110622\n",
       "\n",
       "[9601013 rows x 2 columns]"
      ]
     },
     "execution_count": 747,
     "metadata": {},
     "output_type": "execute_result"
    }
   ],
   "source": [
    "#Корректный вид датафрейма\n",
    "auth_data"
   ]
  },
  {
   "cell_type": "code",
   "execution_count": 748,
   "id": "ac3429d9",
   "metadata": {
    "scrolled": true
   },
   "outputs": [],
   "source": [
    "#Считываем данные о времени регистрации\n",
    "reg_data = pd.read_csv('~/shared/problem1-reg_data.csv', sep = ';')"
   ]
  },
  {
   "cell_type": "code",
   "execution_count": 749,
   "id": "b50a5c9e",
   "metadata": {},
   "outputs": [
    {
     "data": {
      "text/html": [
       "<div>\n",
       "<style scoped>\n",
       "    .dataframe tbody tr th:only-of-type {\n",
       "        vertical-align: middle;\n",
       "    }\n",
       "\n",
       "    .dataframe tbody tr th {\n",
       "        vertical-align: top;\n",
       "    }\n",
       "\n",
       "    .dataframe thead th {\n",
       "        text-align: right;\n",
       "    }\n",
       "</style>\n",
       "<table border=\"1\" class=\"dataframe\">\n",
       "  <thead>\n",
       "    <tr style=\"text-align: right;\">\n",
       "      <th></th>\n",
       "      <th>reg_ts</th>\n",
       "      <th>uid</th>\n",
       "    </tr>\n",
       "  </thead>\n",
       "  <tbody>\n",
       "    <tr>\n",
       "      <th>0</th>\n",
       "      <td>911382223</td>\n",
       "      <td>1</td>\n",
       "    </tr>\n",
       "    <tr>\n",
       "      <th>1</th>\n",
       "      <td>932683089</td>\n",
       "      <td>2</td>\n",
       "    </tr>\n",
       "    <tr>\n",
       "      <th>2</th>\n",
       "      <td>947802447</td>\n",
       "      <td>3</td>\n",
       "    </tr>\n",
       "    <tr>\n",
       "      <th>3</th>\n",
       "      <td>959523541</td>\n",
       "      <td>4</td>\n",
       "    </tr>\n",
       "    <tr>\n",
       "      <th>4</th>\n",
       "      <td>969103313</td>\n",
       "      <td>5</td>\n",
       "    </tr>\n",
       "  </tbody>\n",
       "</table>\n",
       "</div>"
      ],
      "text/plain": [
       "      reg_ts  uid\n",
       "0  911382223    1\n",
       "1  932683089    2\n",
       "2  947802447    3\n",
       "3  959523541    4\n",
       "4  969103313    5"
      ]
     },
     "execution_count": 749,
     "metadata": {},
     "output_type": "execute_result"
    }
   ],
   "source": [
    "#Проверяем как данные выглядят на вид\n",
    "reg_data.head()"
   ]
  },
  {
   "cell_type": "code",
   "execution_count": 750,
   "id": "08c22fa9",
   "metadata": {},
   "outputs": [
    {
     "data": {
      "text/plain": [
       "reg_ts    int64\n",
       "uid       int64\n",
       "dtype: object"
      ]
     },
     "execution_count": 750,
     "metadata": {},
     "output_type": "execute_result"
    }
   ],
   "source": [
    "#Проверка типов данных\n",
    "reg_data.dtypes"
   ]
  },
  {
   "cell_type": "code",
   "execution_count": 751,
   "id": "af1815b4",
   "metadata": {},
   "outputs": [
    {
     "data": {
      "text/plain": [
       "(1000000, 2)"
      ]
     },
     "execution_count": 751,
     "metadata": {},
     "output_type": "execute_result"
    }
   ],
   "source": [
    "#Размер данных\n",
    "reg_data.shape"
   ]
  },
  {
   "cell_type": "code",
   "execution_count": 752,
   "id": "64f0f90f",
   "metadata": {},
   "outputs": [
    {
     "data": {
      "text/plain": [
       "0"
      ]
     },
     "execution_count": 752,
     "metadata": {},
     "output_type": "execute_result"
    }
   ],
   "source": [
    "#Проверка на дубли в данных\n",
    "reg_data.duplicated().sum()"
   ]
  },
  {
   "cell_type": "code",
   "execution_count": 753,
   "id": "48b4f664",
   "metadata": {},
   "outputs": [
    {
     "data": {
      "text/plain": [
       "reg_ts    0\n",
       "uid       0\n",
       "dtype: int64"
      ]
     },
     "execution_count": 753,
     "metadata": {},
     "output_type": "execute_result"
    }
   ],
   "source": [
    "#Проверка на незаполненные строки\n",
    "reg_data.isna().sum()"
   ]
  },
  {
   "cell_type": "code",
   "execution_count": 754,
   "id": "a9e7401b",
   "metadata": {},
   "outputs": [],
   "source": [
    "#Перевод даты в корректный вид\n",
    "reg_data['reg_ts'] = pd.to_datetime(reg_data['reg_ts'], unit = 's').dt.date"
   ]
  },
  {
   "cell_type": "code",
   "execution_count": 755,
   "id": "6fc67607",
   "metadata": {},
   "outputs": [
    {
     "data": {
      "text/html": [
       "<div>\n",
       "<style scoped>\n",
       "    .dataframe tbody tr th:only-of-type {\n",
       "        vertical-align: middle;\n",
       "    }\n",
       "\n",
       "    .dataframe tbody tr th {\n",
       "        vertical-align: top;\n",
       "    }\n",
       "\n",
       "    .dataframe thead th {\n",
       "        text-align: right;\n",
       "    }\n",
       "</style>\n",
       "<table border=\"1\" class=\"dataframe\">\n",
       "  <thead>\n",
       "    <tr style=\"text-align: right;\">\n",
       "      <th></th>\n",
       "      <th>reg_ts</th>\n",
       "      <th>uid</th>\n",
       "    </tr>\n",
       "  </thead>\n",
       "  <tbody>\n",
       "    <tr>\n",
       "      <th>0</th>\n",
       "      <td>1998-11-18</td>\n",
       "      <td>1</td>\n",
       "    </tr>\n",
       "    <tr>\n",
       "      <th>1</th>\n",
       "      <td>1999-07-22</td>\n",
       "      <td>2</td>\n",
       "    </tr>\n",
       "    <tr>\n",
       "      <th>2</th>\n",
       "      <td>2000-01-13</td>\n",
       "      <td>3</td>\n",
       "    </tr>\n",
       "    <tr>\n",
       "      <th>3</th>\n",
       "      <td>2000-05-28</td>\n",
       "      <td>4</td>\n",
       "    </tr>\n",
       "    <tr>\n",
       "      <th>4</th>\n",
       "      <td>2000-09-16</td>\n",
       "      <td>5</td>\n",
       "    </tr>\n",
       "    <tr>\n",
       "      <th>...</th>\n",
       "      <td>...</td>\n",
       "      <td>...</td>\n",
       "    </tr>\n",
       "    <tr>\n",
       "      <th>999995</th>\n",
       "      <td>2020-09-23</td>\n",
       "      <td>1110618</td>\n",
       "    </tr>\n",
       "    <tr>\n",
       "      <th>999996</th>\n",
       "      <td>2020-09-23</td>\n",
       "      <td>1110619</td>\n",
       "    </tr>\n",
       "    <tr>\n",
       "      <th>999997</th>\n",
       "      <td>2020-09-23</td>\n",
       "      <td>1110620</td>\n",
       "    </tr>\n",
       "    <tr>\n",
       "      <th>999998</th>\n",
       "      <td>2020-09-23</td>\n",
       "      <td>1110621</td>\n",
       "    </tr>\n",
       "    <tr>\n",
       "      <th>999999</th>\n",
       "      <td>2020-09-23</td>\n",
       "      <td>1110622</td>\n",
       "    </tr>\n",
       "  </tbody>\n",
       "</table>\n",
       "<p>1000000 rows × 2 columns</p>\n",
       "</div>"
      ],
      "text/plain": [
       "            reg_ts      uid\n",
       "0       1998-11-18        1\n",
       "1       1999-07-22        2\n",
       "2       2000-01-13        3\n",
       "3       2000-05-28        4\n",
       "4       2000-09-16        5\n",
       "...            ...      ...\n",
       "999995  2020-09-23  1110618\n",
       "999996  2020-09-23  1110619\n",
       "999997  2020-09-23  1110620\n",
       "999998  2020-09-23  1110621\n",
       "999999  2020-09-23  1110622\n",
       "\n",
       "[1000000 rows x 2 columns]"
      ]
     },
     "execution_count": 755,
     "metadata": {},
     "output_type": "execute_result"
    }
   ],
   "source": [
    "#Корректный вид датафрейма\n",
    "reg_data"
   ]
  },
  {
   "cell_type": "code",
   "execution_count": 756,
   "id": "92796317",
   "metadata": {},
   "outputs": [],
   "source": [
    "#Общий вид функции Retention_rate с учетом входных параметров:\n",
    "#reg_data - входной датафрейм с временем регистрации\n",
    "#auth_data - входной датафрейм с временем захода пользователей\n",
    "#date_start - дата, с которой идет отсчет Retention\n",
    "#date_days - количество дней от даты start, в которые учитываем Retention Rate\n",
    "\n",
    "def Retention_rate(reg_data, auth_data, date_start, days):\n",
    "    date_start = pd.to_datetime(date_start) #корректный формат дата начала подсчета Retention\n",
    "    date_end = date_start + pd.Timedelta(days = days) #корректный формат даты окончания подсчета Retention\n",
    "    #Объединение входных датафреймов в один по ключу \"uid\" и фильтрация фиксированного периода\n",
    "    data = auth_data.merge(reg_data, how = 'left', on = 'uid').query('reg_ts >= @date_start and auth_ts <= @date_end')\\\n",
    "        .groupby(['reg_ts', 'auth_ts'], as_index = False)\\\n",
    "        .agg(user = ('uid', 'nunique')).rename(columns = {'reg_ts': 'registration_date'})\n",
    "    #Разница в днях между вхождением в приложение и датой регистрации\n",
    "    data['days'] = (data['auth_ts'] - data['registration_date']).dt.days\n",
    "    #Построение таблицы когорт\n",
    "    final_retention = data.pivot_table(index = 'registration_date', columns = 'days', values = 'user')\n",
    "    final_retention = final_retention.divide(final_retention.iloc[:, 0], axis = 0)\n",
    "    final_retention = final_retention.drop(final_retention.columns[0], axis = 1)\n",
    "    #Визуализация\n",
    "    plt.figure(figsize = (20, 10))\n",
    "    ax = sns.heatmap(final_retention, annot = True, cmap = \"Blues\", fmt = '.1%', cbar = False)\n",
    "    sns.despine()\n",
    "    return final_retention"
   ]
  },
  {
   "cell_type": "code",
   "execution_count": 757,
   "id": "337f7ee8",
   "metadata": {},
   "outputs": [
    {
     "name": "stderr",
     "output_type": "stream",
     "text": [
      "C:\\Users\\Alexei\\anaconda3\\lib\\site-packages\\pandas\\core\\ops\\array_ops.py:73: FutureWarning: Comparison of Timestamp with datetime.date is deprecated in order to match the standard library behavior. In a future version these will be considered non-comparable. Use 'ts == pd.Timestamp(date)' or 'ts.date() == date' instead.\n",
      "  result = libops.scalar_compare(x.ravel(), y, op)\n"
     ]
    },
    {
     "data": {
      "text/html": [
       "<div>\n",
       "<style scoped>\n",
       "    .dataframe tbody tr th:only-of-type {\n",
       "        vertical-align: middle;\n",
       "    }\n",
       "\n",
       "    .dataframe tbody tr th {\n",
       "        vertical-align: top;\n",
       "    }\n",
       "\n",
       "    .dataframe thead th {\n",
       "        text-align: right;\n",
       "    }\n",
       "</style>\n",
       "<table border=\"1\" class=\"dataframe\">\n",
       "  <thead>\n",
       "    <tr style=\"text-align: right;\">\n",
       "      <th>days</th>\n",
       "      <th>1</th>\n",
       "      <th>2</th>\n",
       "      <th>3</th>\n",
       "      <th>4</th>\n",
       "      <th>5</th>\n",
       "      <th>6</th>\n",
       "      <th>7</th>\n",
       "      <th>8</th>\n",
       "      <th>9</th>\n",
       "      <th>10</th>\n",
       "      <th>11</th>\n",
       "      <th>12</th>\n",
       "      <th>13</th>\n",
       "      <th>14</th>\n",
       "      <th>15</th>\n",
       "      <th>16</th>\n",
       "      <th>17</th>\n",
       "      <th>18</th>\n",
       "      <th>19</th>\n",
       "      <th>20</th>\n",
       "    </tr>\n",
       "    <tr>\n",
       "      <th>registration_date</th>\n",
       "      <th></th>\n",
       "      <th></th>\n",
       "      <th></th>\n",
       "      <th></th>\n",
       "      <th></th>\n",
       "      <th></th>\n",
       "      <th></th>\n",
       "      <th></th>\n",
       "      <th></th>\n",
       "      <th></th>\n",
       "      <th></th>\n",
       "      <th></th>\n",
       "      <th></th>\n",
       "      <th></th>\n",
       "      <th></th>\n",
       "      <th></th>\n",
       "      <th></th>\n",
       "      <th></th>\n",
       "      <th></th>\n",
       "      <th></th>\n",
       "    </tr>\n",
       "  </thead>\n",
       "  <tbody>\n",
       "    <tr>\n",
       "      <th>2017-08-01</th>\n",
       "      <td>0.028226</td>\n",
       "      <td>0.040323</td>\n",
       "      <td>0.056452</td>\n",
       "      <td>0.060484</td>\n",
       "      <td>0.060484</td>\n",
       "      <td>0.044355</td>\n",
       "      <td>0.056452</td>\n",
       "      <td>0.060484</td>\n",
       "      <td>0.048387</td>\n",
       "      <td>0.056452</td>\n",
       "      <td>0.048387</td>\n",
       "      <td>0.040323</td>\n",
       "      <td>0.064516</td>\n",
       "      <td>0.036290</td>\n",
       "      <td>0.052419</td>\n",
       "      <td>0.040323</td>\n",
       "      <td>0.024194</td>\n",
       "      <td>0.064516</td>\n",
       "      <td>0.040323</td>\n",
       "      <td>0.028226</td>\n",
       "    </tr>\n",
       "    <tr>\n",
       "      <th>2017-08-02</th>\n",
       "      <td>0.016064</td>\n",
       "      <td>0.028112</td>\n",
       "      <td>0.052209</td>\n",
       "      <td>0.060241</td>\n",
       "      <td>0.088353</td>\n",
       "      <td>0.072289</td>\n",
       "      <td>0.064257</td>\n",
       "      <td>0.040161</td>\n",
       "      <td>0.068273</td>\n",
       "      <td>0.076305</td>\n",
       "      <td>0.060241</td>\n",
       "      <td>0.064257</td>\n",
       "      <td>0.048193</td>\n",
       "      <td>0.048193</td>\n",
       "      <td>0.052209</td>\n",
       "      <td>0.036145</td>\n",
       "      <td>0.040161</td>\n",
       "      <td>0.052209</td>\n",
       "      <td>0.044177</td>\n",
       "      <td>NaN</td>\n",
       "    </tr>\n",
       "    <tr>\n",
       "      <th>2017-08-03</th>\n",
       "      <td>0.024096</td>\n",
       "      <td>0.044177</td>\n",
       "      <td>0.052209</td>\n",
       "      <td>0.076305</td>\n",
       "      <td>0.068273</td>\n",
       "      <td>0.084337</td>\n",
       "      <td>0.048193</td>\n",
       "      <td>0.040161</td>\n",
       "      <td>0.052209</td>\n",
       "      <td>0.060241</td>\n",
       "      <td>0.080321</td>\n",
       "      <td>0.084337</td>\n",
       "      <td>0.064257</td>\n",
       "      <td>0.052209</td>\n",
       "      <td>0.064257</td>\n",
       "      <td>0.068273</td>\n",
       "      <td>0.056225</td>\n",
       "      <td>0.036145</td>\n",
       "      <td>NaN</td>\n",
       "      <td>NaN</td>\n",
       "    </tr>\n",
       "    <tr>\n",
       "      <th>2017-08-04</th>\n",
       "      <td>0.044000</td>\n",
       "      <td>0.040000</td>\n",
       "      <td>0.056000</td>\n",
       "      <td>0.048000</td>\n",
       "      <td>0.052000</td>\n",
       "      <td>0.104000</td>\n",
       "      <td>0.052000</td>\n",
       "      <td>0.040000</td>\n",
       "      <td>0.040000</td>\n",
       "      <td>0.080000</td>\n",
       "      <td>0.084000</td>\n",
       "      <td>0.052000</td>\n",
       "      <td>0.040000</td>\n",
       "      <td>0.044000</td>\n",
       "      <td>0.056000</td>\n",
       "      <td>0.040000</td>\n",
       "      <td>0.068000</td>\n",
       "      <td>NaN</td>\n",
       "      <td>NaN</td>\n",
       "      <td>NaN</td>\n",
       "    </tr>\n",
       "    <tr>\n",
       "      <th>2017-08-05</th>\n",
       "      <td>0.032000</td>\n",
       "      <td>0.036000</td>\n",
       "      <td>0.048000</td>\n",
       "      <td>0.060000</td>\n",
       "      <td>0.076000</td>\n",
       "      <td>0.064000</td>\n",
       "      <td>0.068000</td>\n",
       "      <td>0.032000</td>\n",
       "      <td>0.064000</td>\n",
       "      <td>0.056000</td>\n",
       "      <td>0.068000</td>\n",
       "      <td>0.048000</td>\n",
       "      <td>0.052000</td>\n",
       "      <td>0.044000</td>\n",
       "      <td>0.060000</td>\n",
       "      <td>0.024000</td>\n",
       "      <td>NaN</td>\n",
       "      <td>NaN</td>\n",
       "      <td>NaN</td>\n",
       "      <td>NaN</td>\n",
       "    </tr>\n",
       "    <tr>\n",
       "      <th>2017-08-06</th>\n",
       "      <td>0.015936</td>\n",
       "      <td>0.043825</td>\n",
       "      <td>0.023904</td>\n",
       "      <td>0.059761</td>\n",
       "      <td>0.043825</td>\n",
       "      <td>0.099602</td>\n",
       "      <td>0.067729</td>\n",
       "      <td>0.023904</td>\n",
       "      <td>0.043825</td>\n",
       "      <td>0.035857</td>\n",
       "      <td>0.043825</td>\n",
       "      <td>0.043825</td>\n",
       "      <td>0.035857</td>\n",
       "      <td>0.043825</td>\n",
       "      <td>0.039841</td>\n",
       "      <td>NaN</td>\n",
       "      <td>NaN</td>\n",
       "      <td>NaN</td>\n",
       "      <td>NaN</td>\n",
       "      <td>NaN</td>\n",
       "    </tr>\n",
       "    <tr>\n",
       "      <th>2017-08-07</th>\n",
       "      <td>0.011952</td>\n",
       "      <td>0.023904</td>\n",
       "      <td>0.027888</td>\n",
       "      <td>0.027888</td>\n",
       "      <td>0.063745</td>\n",
       "      <td>0.051793</td>\n",
       "      <td>0.055777</td>\n",
       "      <td>0.023904</td>\n",
       "      <td>0.047809</td>\n",
       "      <td>0.035857</td>\n",
       "      <td>0.043825</td>\n",
       "      <td>0.047809</td>\n",
       "      <td>0.039841</td>\n",
       "      <td>0.007968</td>\n",
       "      <td>NaN</td>\n",
       "      <td>NaN</td>\n",
       "      <td>NaN</td>\n",
       "      <td>NaN</td>\n",
       "      <td>NaN</td>\n",
       "      <td>NaN</td>\n",
       "    </tr>\n",
       "    <tr>\n",
       "      <th>2017-08-08</th>\n",
       "      <td>0.023904</td>\n",
       "      <td>0.051793</td>\n",
       "      <td>0.047809</td>\n",
       "      <td>0.055777</td>\n",
       "      <td>0.067729</td>\n",
       "      <td>0.063745</td>\n",
       "      <td>0.071713</td>\n",
       "      <td>0.035857</td>\n",
       "      <td>0.039841</td>\n",
       "      <td>0.051793</td>\n",
       "      <td>0.047809</td>\n",
       "      <td>0.047809</td>\n",
       "      <td>0.063745</td>\n",
       "      <td>NaN</td>\n",
       "      <td>NaN</td>\n",
       "      <td>NaN</td>\n",
       "      <td>NaN</td>\n",
       "      <td>NaN</td>\n",
       "      <td>NaN</td>\n",
       "      <td>NaN</td>\n",
       "    </tr>\n",
       "    <tr>\n",
       "      <th>2017-08-09</th>\n",
       "      <td>0.003968</td>\n",
       "      <td>0.059524</td>\n",
       "      <td>0.019841</td>\n",
       "      <td>0.031746</td>\n",
       "      <td>0.051587</td>\n",
       "      <td>0.059524</td>\n",
       "      <td>0.055556</td>\n",
       "      <td>0.027778</td>\n",
       "      <td>0.023810</td>\n",
       "      <td>0.043651</td>\n",
       "      <td>0.063492</td>\n",
       "      <td>0.043651</td>\n",
       "      <td>NaN</td>\n",
       "      <td>NaN</td>\n",
       "      <td>NaN</td>\n",
       "      <td>NaN</td>\n",
       "      <td>NaN</td>\n",
       "      <td>NaN</td>\n",
       "      <td>NaN</td>\n",
       "      <td>NaN</td>\n",
       "    </tr>\n",
       "    <tr>\n",
       "      <th>2017-08-10</th>\n",
       "      <td>0.035714</td>\n",
       "      <td>0.059524</td>\n",
       "      <td>0.083333</td>\n",
       "      <td>0.035714</td>\n",
       "      <td>0.055556</td>\n",
       "      <td>0.075397</td>\n",
       "      <td>0.075397</td>\n",
       "      <td>0.051587</td>\n",
       "      <td>0.051587</td>\n",
       "      <td>0.035714</td>\n",
       "      <td>0.055556</td>\n",
       "      <td>NaN</td>\n",
       "      <td>NaN</td>\n",
       "      <td>NaN</td>\n",
       "      <td>NaN</td>\n",
       "      <td>NaN</td>\n",
       "      <td>NaN</td>\n",
       "      <td>NaN</td>\n",
       "      <td>NaN</td>\n",
       "      <td>NaN</td>\n",
       "    </tr>\n",
       "    <tr>\n",
       "      <th>2017-08-11</th>\n",
       "      <td>0.015810</td>\n",
       "      <td>0.035573</td>\n",
       "      <td>0.031621</td>\n",
       "      <td>0.051383</td>\n",
       "      <td>0.071146</td>\n",
       "      <td>0.051383</td>\n",
       "      <td>0.035573</td>\n",
       "      <td>0.047431</td>\n",
       "      <td>0.027668</td>\n",
       "      <td>0.039526</td>\n",
       "      <td>NaN</td>\n",
       "      <td>NaN</td>\n",
       "      <td>NaN</td>\n",
       "      <td>NaN</td>\n",
       "      <td>NaN</td>\n",
       "      <td>NaN</td>\n",
       "      <td>NaN</td>\n",
       "      <td>NaN</td>\n",
       "      <td>NaN</td>\n",
       "      <td>NaN</td>\n",
       "    </tr>\n",
       "    <tr>\n",
       "      <th>2017-08-12</th>\n",
       "      <td>0.003953</td>\n",
       "      <td>0.023715</td>\n",
       "      <td>0.039526</td>\n",
       "      <td>0.051383</td>\n",
       "      <td>0.063241</td>\n",
       "      <td>0.063241</td>\n",
       "      <td>0.055336</td>\n",
       "      <td>0.027668</td>\n",
       "      <td>0.043478</td>\n",
       "      <td>NaN</td>\n",
       "      <td>NaN</td>\n",
       "      <td>NaN</td>\n",
       "      <td>NaN</td>\n",
       "      <td>NaN</td>\n",
       "      <td>NaN</td>\n",
       "      <td>NaN</td>\n",
       "      <td>NaN</td>\n",
       "      <td>NaN</td>\n",
       "      <td>NaN</td>\n",
       "      <td>NaN</td>\n",
       "    </tr>\n",
       "    <tr>\n",
       "      <th>2017-08-13</th>\n",
       "      <td>0.011858</td>\n",
       "      <td>0.055336</td>\n",
       "      <td>0.043478</td>\n",
       "      <td>0.051383</td>\n",
       "      <td>0.047431</td>\n",
       "      <td>0.067194</td>\n",
       "      <td>0.067194</td>\n",
       "      <td>0.075099</td>\n",
       "      <td>NaN</td>\n",
       "      <td>NaN</td>\n",
       "      <td>NaN</td>\n",
       "      <td>NaN</td>\n",
       "      <td>NaN</td>\n",
       "      <td>NaN</td>\n",
       "      <td>NaN</td>\n",
       "      <td>NaN</td>\n",
       "      <td>NaN</td>\n",
       "      <td>NaN</td>\n",
       "      <td>NaN</td>\n",
       "      <td>NaN</td>\n",
       "    </tr>\n",
       "    <tr>\n",
       "      <th>2017-08-14</th>\n",
       "      <td>0.007874</td>\n",
       "      <td>0.055118</td>\n",
       "      <td>0.031496</td>\n",
       "      <td>0.078740</td>\n",
       "      <td>0.051181</td>\n",
       "      <td>0.055118</td>\n",
       "      <td>0.066929</td>\n",
       "      <td>NaN</td>\n",
       "      <td>NaN</td>\n",
       "      <td>NaN</td>\n",
       "      <td>NaN</td>\n",
       "      <td>NaN</td>\n",
       "      <td>NaN</td>\n",
       "      <td>NaN</td>\n",
       "      <td>NaN</td>\n",
       "      <td>NaN</td>\n",
       "      <td>NaN</td>\n",
       "      <td>NaN</td>\n",
       "      <td>NaN</td>\n",
       "      <td>NaN</td>\n",
       "    </tr>\n",
       "    <tr>\n",
       "      <th>2017-08-15</th>\n",
       "      <td>0.027451</td>\n",
       "      <td>0.070588</td>\n",
       "      <td>0.035294</td>\n",
       "      <td>0.062745</td>\n",
       "      <td>0.047059</td>\n",
       "      <td>0.082353</td>\n",
       "      <td>NaN</td>\n",
       "      <td>NaN</td>\n",
       "      <td>NaN</td>\n",
       "      <td>NaN</td>\n",
       "      <td>NaN</td>\n",
       "      <td>NaN</td>\n",
       "      <td>NaN</td>\n",
       "      <td>NaN</td>\n",
       "      <td>NaN</td>\n",
       "      <td>NaN</td>\n",
       "      <td>NaN</td>\n",
       "      <td>NaN</td>\n",
       "      <td>NaN</td>\n",
       "      <td>NaN</td>\n",
       "    </tr>\n",
       "    <tr>\n",
       "      <th>2017-08-16</th>\n",
       "      <td>0.019685</td>\n",
       "      <td>0.043307</td>\n",
       "      <td>0.035433</td>\n",
       "      <td>0.055118</td>\n",
       "      <td>0.051181</td>\n",
       "      <td>NaN</td>\n",
       "      <td>NaN</td>\n",
       "      <td>NaN</td>\n",
       "      <td>NaN</td>\n",
       "      <td>NaN</td>\n",
       "      <td>NaN</td>\n",
       "      <td>NaN</td>\n",
       "      <td>NaN</td>\n",
       "      <td>NaN</td>\n",
       "      <td>NaN</td>\n",
       "      <td>NaN</td>\n",
       "      <td>NaN</td>\n",
       "      <td>NaN</td>\n",
       "      <td>NaN</td>\n",
       "      <td>NaN</td>\n",
       "    </tr>\n",
       "    <tr>\n",
       "      <th>2017-08-17</th>\n",
       "      <td>0.011719</td>\n",
       "      <td>0.031250</td>\n",
       "      <td>0.042969</td>\n",
       "      <td>0.046875</td>\n",
       "      <td>NaN</td>\n",
       "      <td>NaN</td>\n",
       "      <td>NaN</td>\n",
       "      <td>NaN</td>\n",
       "      <td>NaN</td>\n",
       "      <td>NaN</td>\n",
       "      <td>NaN</td>\n",
       "      <td>NaN</td>\n",
       "      <td>NaN</td>\n",
       "      <td>NaN</td>\n",
       "      <td>NaN</td>\n",
       "      <td>NaN</td>\n",
       "      <td>NaN</td>\n",
       "      <td>NaN</td>\n",
       "      <td>NaN</td>\n",
       "      <td>NaN</td>\n",
       "    </tr>\n",
       "    <tr>\n",
       "      <th>2017-08-18</th>\n",
       "      <td>0.011765</td>\n",
       "      <td>0.047059</td>\n",
       "      <td>0.074510</td>\n",
       "      <td>NaN</td>\n",
       "      <td>NaN</td>\n",
       "      <td>NaN</td>\n",
       "      <td>NaN</td>\n",
       "      <td>NaN</td>\n",
       "      <td>NaN</td>\n",
       "      <td>NaN</td>\n",
       "      <td>NaN</td>\n",
       "      <td>NaN</td>\n",
       "      <td>NaN</td>\n",
       "      <td>NaN</td>\n",
       "      <td>NaN</td>\n",
       "      <td>NaN</td>\n",
       "      <td>NaN</td>\n",
       "      <td>NaN</td>\n",
       "      <td>NaN</td>\n",
       "      <td>NaN</td>\n",
       "    </tr>\n",
       "    <tr>\n",
       "      <th>2017-08-19</th>\n",
       "      <td>0.011719</td>\n",
       "      <td>0.039062</td>\n",
       "      <td>NaN</td>\n",
       "      <td>NaN</td>\n",
       "      <td>NaN</td>\n",
       "      <td>NaN</td>\n",
       "      <td>NaN</td>\n",
       "      <td>NaN</td>\n",
       "      <td>NaN</td>\n",
       "      <td>NaN</td>\n",
       "      <td>NaN</td>\n",
       "      <td>NaN</td>\n",
       "      <td>NaN</td>\n",
       "      <td>NaN</td>\n",
       "      <td>NaN</td>\n",
       "      <td>NaN</td>\n",
       "      <td>NaN</td>\n",
       "      <td>NaN</td>\n",
       "      <td>NaN</td>\n",
       "      <td>NaN</td>\n",
       "    </tr>\n",
       "    <tr>\n",
       "      <th>2017-08-20</th>\n",
       "      <td>0.023438</td>\n",
       "      <td>NaN</td>\n",
       "      <td>NaN</td>\n",
       "      <td>NaN</td>\n",
       "      <td>NaN</td>\n",
       "      <td>NaN</td>\n",
       "      <td>NaN</td>\n",
       "      <td>NaN</td>\n",
       "      <td>NaN</td>\n",
       "      <td>NaN</td>\n",
       "      <td>NaN</td>\n",
       "      <td>NaN</td>\n",
       "      <td>NaN</td>\n",
       "      <td>NaN</td>\n",
       "      <td>NaN</td>\n",
       "      <td>NaN</td>\n",
       "      <td>NaN</td>\n",
       "      <td>NaN</td>\n",
       "      <td>NaN</td>\n",
       "      <td>NaN</td>\n",
       "    </tr>\n",
       "    <tr>\n",
       "      <th>2017-08-21</th>\n",
       "      <td>NaN</td>\n",
       "      <td>NaN</td>\n",
       "      <td>NaN</td>\n",
       "      <td>NaN</td>\n",
       "      <td>NaN</td>\n",
       "      <td>NaN</td>\n",
       "      <td>NaN</td>\n",
       "      <td>NaN</td>\n",
       "      <td>NaN</td>\n",
       "      <td>NaN</td>\n",
       "      <td>NaN</td>\n",
       "      <td>NaN</td>\n",
       "      <td>NaN</td>\n",
       "      <td>NaN</td>\n",
       "      <td>NaN</td>\n",
       "      <td>NaN</td>\n",
       "      <td>NaN</td>\n",
       "      <td>NaN</td>\n",
       "      <td>NaN</td>\n",
       "      <td>NaN</td>\n",
       "    </tr>\n",
       "  </tbody>\n",
       "</table>\n",
       "</div>"
      ],
      "text/plain": [
       "days                     1         2         3         4         5         6   \\\n",
       "registration_date                                                               \n",
       "2017-08-01         0.028226  0.040323  0.056452  0.060484  0.060484  0.044355   \n",
       "2017-08-02         0.016064  0.028112  0.052209  0.060241  0.088353  0.072289   \n",
       "2017-08-03         0.024096  0.044177  0.052209  0.076305  0.068273  0.084337   \n",
       "2017-08-04         0.044000  0.040000  0.056000  0.048000  0.052000  0.104000   \n",
       "2017-08-05         0.032000  0.036000  0.048000  0.060000  0.076000  0.064000   \n",
       "2017-08-06         0.015936  0.043825  0.023904  0.059761  0.043825  0.099602   \n",
       "2017-08-07         0.011952  0.023904  0.027888  0.027888  0.063745  0.051793   \n",
       "2017-08-08         0.023904  0.051793  0.047809  0.055777  0.067729  0.063745   \n",
       "2017-08-09         0.003968  0.059524  0.019841  0.031746  0.051587  0.059524   \n",
       "2017-08-10         0.035714  0.059524  0.083333  0.035714  0.055556  0.075397   \n",
       "2017-08-11         0.015810  0.035573  0.031621  0.051383  0.071146  0.051383   \n",
       "2017-08-12         0.003953  0.023715  0.039526  0.051383  0.063241  0.063241   \n",
       "2017-08-13         0.011858  0.055336  0.043478  0.051383  0.047431  0.067194   \n",
       "2017-08-14         0.007874  0.055118  0.031496  0.078740  0.051181  0.055118   \n",
       "2017-08-15         0.027451  0.070588  0.035294  0.062745  0.047059  0.082353   \n",
       "2017-08-16         0.019685  0.043307  0.035433  0.055118  0.051181       NaN   \n",
       "2017-08-17         0.011719  0.031250  0.042969  0.046875       NaN       NaN   \n",
       "2017-08-18         0.011765  0.047059  0.074510       NaN       NaN       NaN   \n",
       "2017-08-19         0.011719  0.039062       NaN       NaN       NaN       NaN   \n",
       "2017-08-20         0.023438       NaN       NaN       NaN       NaN       NaN   \n",
       "2017-08-21              NaN       NaN       NaN       NaN       NaN       NaN   \n",
       "\n",
       "days                     7         8         9         10        11        12  \\\n",
       "registration_date                                                               \n",
       "2017-08-01         0.056452  0.060484  0.048387  0.056452  0.048387  0.040323   \n",
       "2017-08-02         0.064257  0.040161  0.068273  0.076305  0.060241  0.064257   \n",
       "2017-08-03         0.048193  0.040161  0.052209  0.060241  0.080321  0.084337   \n",
       "2017-08-04         0.052000  0.040000  0.040000  0.080000  0.084000  0.052000   \n",
       "2017-08-05         0.068000  0.032000  0.064000  0.056000  0.068000  0.048000   \n",
       "2017-08-06         0.067729  0.023904  0.043825  0.035857  0.043825  0.043825   \n",
       "2017-08-07         0.055777  0.023904  0.047809  0.035857  0.043825  0.047809   \n",
       "2017-08-08         0.071713  0.035857  0.039841  0.051793  0.047809  0.047809   \n",
       "2017-08-09         0.055556  0.027778  0.023810  0.043651  0.063492  0.043651   \n",
       "2017-08-10         0.075397  0.051587  0.051587  0.035714  0.055556       NaN   \n",
       "2017-08-11         0.035573  0.047431  0.027668  0.039526       NaN       NaN   \n",
       "2017-08-12         0.055336  0.027668  0.043478       NaN       NaN       NaN   \n",
       "2017-08-13         0.067194  0.075099       NaN       NaN       NaN       NaN   \n",
       "2017-08-14         0.066929       NaN       NaN       NaN       NaN       NaN   \n",
       "2017-08-15              NaN       NaN       NaN       NaN       NaN       NaN   \n",
       "2017-08-16              NaN       NaN       NaN       NaN       NaN       NaN   \n",
       "2017-08-17              NaN       NaN       NaN       NaN       NaN       NaN   \n",
       "2017-08-18              NaN       NaN       NaN       NaN       NaN       NaN   \n",
       "2017-08-19              NaN       NaN       NaN       NaN       NaN       NaN   \n",
       "2017-08-20              NaN       NaN       NaN       NaN       NaN       NaN   \n",
       "2017-08-21              NaN       NaN       NaN       NaN       NaN       NaN   \n",
       "\n",
       "days                     13        14        15        16        17        18  \\\n",
       "registration_date                                                               \n",
       "2017-08-01         0.064516  0.036290  0.052419  0.040323  0.024194  0.064516   \n",
       "2017-08-02         0.048193  0.048193  0.052209  0.036145  0.040161  0.052209   \n",
       "2017-08-03         0.064257  0.052209  0.064257  0.068273  0.056225  0.036145   \n",
       "2017-08-04         0.040000  0.044000  0.056000  0.040000  0.068000       NaN   \n",
       "2017-08-05         0.052000  0.044000  0.060000  0.024000       NaN       NaN   \n",
       "2017-08-06         0.035857  0.043825  0.039841       NaN       NaN       NaN   \n",
       "2017-08-07         0.039841  0.007968       NaN       NaN       NaN       NaN   \n",
       "2017-08-08         0.063745       NaN       NaN       NaN       NaN       NaN   \n",
       "2017-08-09              NaN       NaN       NaN       NaN       NaN       NaN   \n",
       "2017-08-10              NaN       NaN       NaN       NaN       NaN       NaN   \n",
       "2017-08-11              NaN       NaN       NaN       NaN       NaN       NaN   \n",
       "2017-08-12              NaN       NaN       NaN       NaN       NaN       NaN   \n",
       "2017-08-13              NaN       NaN       NaN       NaN       NaN       NaN   \n",
       "2017-08-14              NaN       NaN       NaN       NaN       NaN       NaN   \n",
       "2017-08-15              NaN       NaN       NaN       NaN       NaN       NaN   \n",
       "2017-08-16              NaN       NaN       NaN       NaN       NaN       NaN   \n",
       "2017-08-17              NaN       NaN       NaN       NaN       NaN       NaN   \n",
       "2017-08-18              NaN       NaN       NaN       NaN       NaN       NaN   \n",
       "2017-08-19              NaN       NaN       NaN       NaN       NaN       NaN   \n",
       "2017-08-20              NaN       NaN       NaN       NaN       NaN       NaN   \n",
       "2017-08-21              NaN       NaN       NaN       NaN       NaN       NaN   \n",
       "\n",
       "days                     19        20  \n",
       "registration_date                      \n",
       "2017-08-01         0.040323  0.028226  \n",
       "2017-08-02         0.044177       NaN  \n",
       "2017-08-03              NaN       NaN  \n",
       "2017-08-04              NaN       NaN  \n",
       "2017-08-05              NaN       NaN  \n",
       "2017-08-06              NaN       NaN  \n",
       "2017-08-07              NaN       NaN  \n",
       "2017-08-08              NaN       NaN  \n",
       "2017-08-09              NaN       NaN  \n",
       "2017-08-10              NaN       NaN  \n",
       "2017-08-11              NaN       NaN  \n",
       "2017-08-12              NaN       NaN  \n",
       "2017-08-13              NaN       NaN  \n",
       "2017-08-14              NaN       NaN  \n",
       "2017-08-15              NaN       NaN  \n",
       "2017-08-16              NaN       NaN  \n",
       "2017-08-17              NaN       NaN  \n",
       "2017-08-18              NaN       NaN  \n",
       "2017-08-19              NaN       NaN  \n",
       "2017-08-20              NaN       NaN  \n",
       "2017-08-21              NaN       NaN  "
      ]
     },
     "execution_count": 757,
     "metadata": {},
     "output_type": "execute_result"
    },
    {
     "data": {
      "image/png": "[encoded data removed]",
      "text/plain": [
       "<Figure size 1440x720 with 1 Axes>"
      ]
     },
     "metadata": {},
     "output_type": "display_data"
    }
   ],
   "source": [
    "Retention_rate(reg_data, auth_data, '2017-08-01', 20)"
   ]
  },
  {
   "cell_type": "markdown",
   "id": "8b6a57f5",
   "metadata": {},
   "source": [
    "# Задание 2\n",
    "Имеются результаты A/B теста, в котором двум группам пользователей предлагались различные наборы акционных предложений. Известно, что ARPU в тестовой группе выше на 5%, чем в контрольной. При этом в контрольной группе 1928 игроков из 202103 оказались платящими, а в тестовой – 1805 из 202667.\n",
    "\n",
    "Какой набор предложений можно считать лучшим? Какие метрики стоит проанализировать для принятия правильного решения и как?"
   ]
  },
  {
   "cell_type": "markdown",
   "id": "347d0324",
   "metadata": {},
   "source": [
    "# Какой набор предложений можно считать лучшим?"
   ]
  },
  {
   "cell_type": "code",
   "execution_count": 758,
   "id": "30e52ecb",
   "metadata": {},
   "outputs": [],
   "source": [
    "# Подготовка для скачивания данных с внешней ссылки (конструкция с stackoverflow)\n",
    "base_url = 'https://cloud-api.yandex.net/v1/disk/public/resources/download?'\n",
    "public_key = 'https://disk.yandex.ru/d/SOkIsD5A8xlI7Q'  \n",
    "final_url = base_url + urlencode(dict(public_key=public_key))\n",
    "# Считываем данные из файла\n",
    "response = requests.get(final_url)\n",
    "path = json.loads(response.text)['href']\n",
    "\n",
    "# Записываем данные в датафрейм\n",
    "df = pd.read_csv(path, sep=';')"
   ]
  },
  {
   "cell_type": "code",
   "execution_count": 759,
   "id": "bb563040",
   "metadata": {},
   "outputs": [
    {
     "data": {
      "text/html": [
       "<div>\n",
       "<style scoped>\n",
       "    .dataframe tbody tr th:only-of-type {\n",
       "        vertical-align: middle;\n",
       "    }\n",
       "\n",
       "    .dataframe tbody tr th {\n",
       "        vertical-align: top;\n",
       "    }\n",
       "\n",
       "    .dataframe thead th {\n",
       "        text-align: right;\n",
       "    }\n",
       "</style>\n",
       "<table border=\"1\" class=\"dataframe\">\n",
       "  <thead>\n",
       "    <tr style=\"text-align: right;\">\n",
       "      <th></th>\n",
       "      <th>user_id</th>\n",
       "      <th>revenue</th>\n",
       "      <th>testgroup</th>\n",
       "    </tr>\n",
       "  </thead>\n",
       "  <tbody>\n",
       "    <tr>\n",
       "      <th>0</th>\n",
       "      <td>1</td>\n",
       "      <td>0</td>\n",
       "      <td>b</td>\n",
       "    </tr>\n",
       "    <tr>\n",
       "      <th>1</th>\n",
       "      <td>2</td>\n",
       "      <td>0</td>\n",
       "      <td>a</td>\n",
       "    </tr>\n",
       "    <tr>\n",
       "      <th>2</th>\n",
       "      <td>3</td>\n",
       "      <td>0</td>\n",
       "      <td>a</td>\n",
       "    </tr>\n",
       "    <tr>\n",
       "      <th>3</th>\n",
       "      <td>4</td>\n",
       "      <td>0</td>\n",
       "      <td>b</td>\n",
       "    </tr>\n",
       "    <tr>\n",
       "      <th>4</th>\n",
       "      <td>5</td>\n",
       "      <td>0</td>\n",
       "      <td>b</td>\n",
       "    </tr>\n",
       "    <tr>\n",
       "      <th>...</th>\n",
       "      <td>...</td>\n",
       "      <td>...</td>\n",
       "      <td>...</td>\n",
       "    </tr>\n",
       "    <tr>\n",
       "      <th>404765</th>\n",
       "      <td>404766</td>\n",
       "      <td>0</td>\n",
       "      <td>a</td>\n",
       "    </tr>\n",
       "    <tr>\n",
       "      <th>404766</th>\n",
       "      <td>404767</td>\n",
       "      <td>0</td>\n",
       "      <td>b</td>\n",
       "    </tr>\n",
       "    <tr>\n",
       "      <th>404767</th>\n",
       "      <td>404768</td>\n",
       "      <td>231</td>\n",
       "      <td>a</td>\n",
       "    </tr>\n",
       "    <tr>\n",
       "      <th>404768</th>\n",
       "      <td>404769</td>\n",
       "      <td>0</td>\n",
       "      <td>a</td>\n",
       "    </tr>\n",
       "    <tr>\n",
       "      <th>404769</th>\n",
       "      <td>404770</td>\n",
       "      <td>0</td>\n",
       "      <td>b</td>\n",
       "    </tr>\n",
       "  </tbody>\n",
       "</table>\n",
       "<p>404770 rows × 3 columns</p>\n",
       "</div>"
      ],
      "text/plain": [
       "        user_id  revenue testgroup\n",
       "0             1        0         b\n",
       "1             2        0         a\n",
       "2             3        0         a\n",
       "3             4        0         b\n",
       "4             5        0         b\n",
       "...         ...      ...       ...\n",
       "404765   404766        0         a\n",
       "404766   404767        0         b\n",
       "404767   404768      231         a\n",
       "404768   404769        0         a\n",
       "404769   404770        0         b\n",
       "\n",
       "[404770 rows x 3 columns]"
      ]
     },
     "execution_count": 759,
     "metadata": {},
     "output_type": "execute_result"
    }
   ],
   "source": [
    "#a - контрольная группа\n",
    "#b - тестовая группа\n",
    "df"
   ]
  },
  {
   "cell_type": "code",
   "execution_count": 760,
   "id": "914d7281",
   "metadata": {},
   "outputs": [
    {
     "data": {
      "text/plain": [
       "user_id       int64\n",
       "revenue       int64\n",
       "testgroup    object\n",
       "dtype: object"
      ]
     },
     "execution_count": 760,
     "metadata": {},
     "output_type": "execute_result"
    }
   ],
   "source": [
    "#Проверка типов данных\n",
    "df.dtypes"
   ]
  },
  {
   "cell_type": "code",
   "execution_count": 761,
   "id": "fbaa1ed2",
   "metadata": {},
   "outputs": [
    {
     "data": {
      "text/plain": [
       "(404770, 3)"
      ]
     },
     "execution_count": 761,
     "metadata": {},
     "output_type": "execute_result"
    }
   ],
   "source": [
    "#Размер данных\n",
    "df.shape"
   ]
  },
  {
   "cell_type": "code",
   "execution_count": 762,
   "id": "59522032",
   "metadata": {},
   "outputs": [
    {
     "data": {
      "text/plain": [
       "0"
      ]
     },
     "execution_count": 762,
     "metadata": {},
     "output_type": "execute_result"
    }
   ],
   "source": [
    "#Проверка на дубли в данных\n",
    "df.duplicated().sum()"
   ]
  },
  {
   "cell_type": "code",
   "execution_count": 763,
   "id": "9f651dd8",
   "metadata": {},
   "outputs": [
    {
     "data": {
      "text/plain": [
       "user_id      0\n",
       "revenue      0\n",
       "testgroup    0\n",
       "dtype: int64"
      ]
     },
     "execution_count": 763,
     "metadata": {},
     "output_type": "execute_result"
    }
   ],
   "source": [
    "#Проверка на незаполненные строки\n",
    "df.isna().sum()"
   ]
  },
  {
   "cell_type": "code",
   "execution_count": 764,
   "id": "20f93c14",
   "metadata": {},
   "outputs": [
    {
     "data": {
      "text/plain": [
       "404770"
      ]
     },
     "execution_count": 764,
     "metadata": {},
     "output_type": "execute_result"
    }
   ],
   "source": [
    "#Количество уникальных пользователей (совпадает с количеством строк) => таблица из всех неповторяющихся пользователей\n",
    "df.user_id.nunique()"
   ]
  },
  {
   "cell_type": "code",
   "execution_count": 765,
   "id": "6c205f18",
   "metadata": {},
   "outputs": [
    {
     "data": {
      "text/plain": [
       "1477"
      ]
     },
     "execution_count": 765,
     "metadata": {},
     "output_type": "execute_result"
    }
   ],
   "source": [
    "#Количество уникальных значений прибыли\n",
    "df.revenue.nunique()"
   ]
  },
  {
   "cell_type": "code",
   "execution_count": 766,
   "id": "4f1235a6",
   "metadata": {},
   "outputs": [
    {
     "data": {
      "text/html": [
       "<div>\n",
       "<style scoped>\n",
       "    .dataframe tbody tr th:only-of-type {\n",
       "        vertical-align: middle;\n",
       "    }\n",
       "\n",
       "    .dataframe tbody tr th {\n",
       "        vertical-align: top;\n",
       "    }\n",
       "\n",
       "    .dataframe thead th {\n",
       "        text-align: right;\n",
       "    }\n",
       "</style>\n",
       "<table border=\"1\" class=\"dataframe\">\n",
       "  <thead>\n",
       "    <tr style=\"text-align: right;\">\n",
       "      <th></th>\n",
       "      <th>count</th>\n",
       "      <th>mean</th>\n",
       "      <th>std</th>\n",
       "      <th>min</th>\n",
       "      <th>25%</th>\n",
       "      <th>50%</th>\n",
       "      <th>75%</th>\n",
       "      <th>max</th>\n",
       "    </tr>\n",
       "    <tr>\n",
       "      <th>testgroup</th>\n",
       "      <th></th>\n",
       "      <th></th>\n",
       "      <th></th>\n",
       "      <th></th>\n",
       "      <th></th>\n",
       "      <th></th>\n",
       "      <th></th>\n",
       "      <th></th>\n",
       "    </tr>\n",
       "  </thead>\n",
       "  <tbody>\n",
       "    <tr>\n",
       "      <th>a</th>\n",
       "      <td>202103.0</td>\n",
       "      <td>25.413720</td>\n",
       "      <td>920.768137</td>\n",
       "      <td>0.0</td>\n",
       "      <td>0.0</td>\n",
       "      <td>0.0</td>\n",
       "      <td>0.0</td>\n",
       "      <td>37433.0</td>\n",
       "    </tr>\n",
       "    <tr>\n",
       "      <th>b</th>\n",
       "      <td>202667.0</td>\n",
       "      <td>26.751287</td>\n",
       "      <td>287.324162</td>\n",
       "      <td>0.0</td>\n",
       "      <td>0.0</td>\n",
       "      <td>0.0</td>\n",
       "      <td>0.0</td>\n",
       "      <td>4000.0</td>\n",
       "    </tr>\n",
       "  </tbody>\n",
       "</table>\n",
       "</div>"
      ],
      "text/plain": [
       "              count       mean         std  min  25%  50%  75%      max\n",
       "testgroup                                                              \n",
       "a          202103.0  25.413720  920.768137  0.0  0.0  0.0  0.0  37433.0\n",
       "b          202667.0  26.751287  287.324162  0.0  0.0  0.0  0.0   4000.0"
      ]
     },
     "execution_count": 766,
     "metadata": {},
     "output_type": "execute_result"
    }
   ],
   "source": [
    "#Описательная статистика revenue по группам\n",
    "df.groupby('testgroup').revenue.describe()"
   ]
  },
  {
   "cell_type": "markdown",
   "id": "bb93adfc",
   "metadata": {},
   "source": [
    "Получается, что. \n",
    "1) в группе (b) ARPU выше на 5,27% (mean) чем в контрольной группе (a) (подтверждается условие задачи в данных)\n",
    "\n",
    "2) стандартное отклонение (std) в группе (a) выше в 3,2 раза чем в группе (b)\n",
    "\n",
    "3) максимальное значение в группе (a) в 9,35 раза выше чем в группе (b), что наводит на мысль, о больших выбросах"
   ]
  },
  {
   "cell_type": "code",
   "execution_count": 767,
   "id": "836567ff",
   "metadata": {},
   "outputs": [
    {
     "data": {
      "text/html": [
       "<div>\n",
       "<style scoped>\n",
       "    .dataframe tbody tr th:only-of-type {\n",
       "        vertical-align: middle;\n",
       "    }\n",
       "\n",
       "    .dataframe tbody tr th {\n",
       "        vertical-align: top;\n",
       "    }\n",
       "\n",
       "    .dataframe thead th {\n",
       "        text-align: right;\n",
       "    }\n",
       "</style>\n",
       "<table border=\"1\" class=\"dataframe\">\n",
       "  <thead>\n",
       "    <tr style=\"text-align: right;\">\n",
       "      <th></th>\n",
       "      <th>revenue</th>\n",
       "    </tr>\n",
       "    <tr>\n",
       "      <th>testgroup</th>\n",
       "      <th></th>\n",
       "    </tr>\n",
       "  </thead>\n",
       "  <tbody>\n",
       "    <tr>\n",
       "      <th>a</th>\n",
       "      <td>5136189</td>\n",
       "    </tr>\n",
       "    <tr>\n",
       "      <th>b</th>\n",
       "      <td>5421603</td>\n",
       "    </tr>\n",
       "  </tbody>\n",
       "</table>\n",
       "</div>"
      ],
      "text/plain": [
       "           revenue\n",
       "testgroup         \n",
       "a          5136189\n",
       "b          5421603"
      ]
     },
     "execution_count": 767,
     "metadata": {},
     "output_type": "execute_result"
    }
   ],
   "source": [
    "#Количество заработанных денег с каждой группы\n",
    "df.groupby('testgroup').agg({'revenue': 'sum'})"
   ]
  },
  {
   "cell_type": "code",
   "execution_count": 768,
   "id": "8d1179ea",
   "metadata": {},
   "outputs": [],
   "source": [
    "#Разбиение датафрейма на тестовые группы\n",
    "df_a = df.query('testgroup == \"a\"')"
   ]
  },
  {
   "cell_type": "code",
   "execution_count": 769,
   "id": "8ac14230",
   "metadata": {},
   "outputs": [],
   "source": [
    "#Сумма дохода с группы a\n",
    "revenue_a = df_a.revenue.sum()"
   ]
  },
  {
   "cell_type": "code",
   "execution_count": 770,
   "id": "53b97a04",
   "metadata": {},
   "outputs": [],
   "source": [
    "#Разбиение датафрейма на тестовые группы\n",
    "df_b = df.query('testgroup == \"b\"')"
   ]
  },
  {
   "cell_type": "code",
   "execution_count": 771,
   "id": "b3d5e4d8",
   "metadata": {},
   "outputs": [],
   "source": [
    "#Сумма дохода с группы b\n",
    "revenue_b = df_b.revenue.sum()"
   ]
  },
  {
   "cell_type": "code",
   "execution_count": 772,
   "id": "ada664a2",
   "metadata": {},
   "outputs": [
    {
     "data": {
      "text/plain": [
       "285414"
      ]
     },
     "execution_count": 772,
     "metadata": {},
     "output_type": "execute_result"
    }
   ],
   "source": [
    "#Разница доходов с группы b и группы a\n",
    "revenue_b - revenue_a"
   ]
  },
  {
   "cell_type": "markdown",
   "id": "1d4767c7",
   "metadata": {},
   "source": [
    "Тестовая группа (b) принесла денег больше контрольной группы (a) на 285414 "
   ]
  },
  {
   "cell_type": "code",
   "execution_count": 773,
   "id": "f9032c67",
   "metadata": {},
   "outputs": [
    {
     "data": {
      "text/html": [
       "<div>\n",
       "<style scoped>\n",
       "    .dataframe tbody tr th:only-of-type {\n",
       "        vertical-align: middle;\n",
       "    }\n",
       "\n",
       "    .dataframe tbody tr th {\n",
       "        vertical-align: top;\n",
       "    }\n",
       "\n",
       "    .dataframe thead th {\n",
       "        text-align: right;\n",
       "    }\n",
       "</style>\n",
       "<table border=\"1\" class=\"dataframe\">\n",
       "  <thead>\n",
       "    <tr style=\"text-align: right;\">\n",
       "      <th></th>\n",
       "      <th>count</th>\n",
       "      <th>mean</th>\n",
       "      <th>std</th>\n",
       "      <th>min</th>\n",
       "      <th>25%</th>\n",
       "      <th>50%</th>\n",
       "      <th>75%</th>\n",
       "      <th>max</th>\n",
       "    </tr>\n",
       "    <tr>\n",
       "      <th>testgroup</th>\n",
       "      <th></th>\n",
       "      <th></th>\n",
       "      <th></th>\n",
       "      <th></th>\n",
       "      <th></th>\n",
       "      <th></th>\n",
       "      <th></th>\n",
       "      <th></th>\n",
       "    </tr>\n",
       "  </thead>\n",
       "  <tbody>\n",
       "    <tr>\n",
       "      <th>a</th>\n",
       "      <td>1928.0</td>\n",
       "      <td>2663.998444</td>\n",
       "      <td>9049.039763</td>\n",
       "      <td>200.0</td>\n",
       "      <td>257.0</td>\n",
       "      <td>311.0</td>\n",
       "      <td>361.0</td>\n",
       "      <td>37433.0</td>\n",
       "    </tr>\n",
       "    <tr>\n",
       "      <th>b</th>\n",
       "      <td>1805.0</td>\n",
       "      <td>3003.658172</td>\n",
       "      <td>572.619709</td>\n",
       "      <td>2000.0</td>\n",
       "      <td>2513.0</td>\n",
       "      <td>3022.0</td>\n",
       "      <td>3478.0</td>\n",
       "      <td>4000.0</td>\n",
       "    </tr>\n",
       "  </tbody>\n",
       "</table>\n",
       "</div>"
      ],
      "text/plain": [
       "            count         mean          std     min     25%     50%     75%  \\\n",
       "testgroup                                                                     \n",
       "a          1928.0  2663.998444  9049.039763   200.0   257.0   311.0   361.0   \n",
       "b          1805.0  3003.658172   572.619709  2000.0  2513.0  3022.0  3478.0   \n",
       "\n",
       "               max  \n",
       "testgroup           \n",
       "a          37433.0  \n",
       "b           4000.0  "
      ]
     },
     "execution_count": 773,
     "metadata": {},
     "output_type": "execute_result"
    }
   ],
   "source": [
    "#Описание пользователей, пользующих платными услугами\n",
    "df.query('revenue > 0').groupby('testgroup').revenue.describe()"
   ]
  },
  {
   "cell_type": "markdown",
   "id": "92f8ea6e",
   "metadata": {},
   "source": [
    "Получается, что:\n",
    "1) Среднее ARPPU (доход на каждого платящего пользователя) в группе (b) выше чем в группе (a) на 12,75%\n",
    "\n",
    "2) Стандартное отклонение (std) у группы (a) выше чем у (b) в 15,8 раза\n",
    "\n",
    "3) Минимальное значение у группы (a) в 10 раз меньше чем у группы (b)\n",
    "\n",
    "4) 25, 50, 75 перцентили у группы (a) также примерно в 10 раз меньше в группе (a) чем у группы (b)\n",
    "\n",
    "5) Максимальное значение у группы (a) в 9,35 раза меньше чем у группы (b)\n",
    "\n",
    "Пункты 2-5 говорят о больших отклонениях соответствующих значений, что наталкивает на мысль о нерепрезентативности"
   ]
  },
  {
   "cell_type": "code",
   "execution_count": 774,
   "id": "ff1625b0",
   "metadata": {},
   "outputs": [
    {
     "data": {
      "text/plain": [
       "81885120.63985239"
      ]
     },
     "execution_count": 774,
     "metadata": {},
     "output_type": "execute_result"
    }
   ],
   "source": [
    "#Дисперсия группы (a) платящих пользователей\n",
    "df_a.query('revenue > 0').revenue.var()"
   ]
  },
  {
   "cell_type": "code",
   "execution_count": 775,
   "id": "70ef6a9d",
   "metadata": {},
   "outputs": [
    {
     "data": {
      "text/plain": [
       "327893.331536567"
      ]
     },
     "execution_count": 775,
     "metadata": {},
     "output_type": "execute_result"
    }
   ],
   "source": [
    "#Дисперсия группы (b) платящих пользователей\n",
    "df_b.query('revenue > 0').revenue.var()"
   ]
  },
  {
   "cell_type": "markdown",
   "id": "1fa6d18e",
   "metadata": {},
   "source": [
    "Как мы видим, дисперсии довольно высокие значения, а также огромная разница, попробуем понять, какие значения привели к такой огромной дисперсии"
   ]
  },
  {
   "cell_type": "code",
   "execution_count": 776,
   "id": "169a7962",
   "metadata": {},
   "outputs": [],
   "source": [
    "#Количество пользователей, принесших денег на сумму более 30 тысяч\n",
    "rich_user_count = df_a.query('revenue > 30000').revenue.agg({'revenue': 'count'})"
   ]
  },
  {
   "cell_type": "code",
   "execution_count": 777,
   "id": "9ee4420a",
   "metadata": {},
   "outputs": [
    {
     "data": {
      "text/plain": [
       "revenue    123\n",
       "Name: revenue, dtype: int64"
      ]
     },
     "execution_count": 777,
     "metadata": {},
     "output_type": "execute_result"
    }
   ],
   "source": [
    "rich_user_count"
   ]
  },
  {
   "cell_type": "code",
   "execution_count": 778,
   "id": "f2bd07f7",
   "metadata": {},
   "outputs": [],
   "source": [
    "#Средняя сумма, которую принесли данные пользователи\n",
    "rich_user_mean = df_a.query('revenue > 30000').revenue.agg({'revenue': 'mean'})"
   ]
  },
  {
   "cell_type": "code",
   "execution_count": 779,
   "id": "c8d5a4f5",
   "metadata": {},
   "outputs": [
    {
     "data": {
      "text/plain": [
       "revenue    37319.121951\n",
       "Name: revenue, dtype: float64"
      ]
     },
     "execution_count": 779,
     "metadata": {},
     "output_type": "execute_result"
    }
   ],
   "source": [
    "rich_user_mean"
   ]
  },
  {
   "cell_type": "code",
   "execution_count": 780,
   "id": "5ff6a272",
   "metadata": {},
   "outputs": [
    {
     "data": {
      "text/plain": [
       "revenue    0.063797\n",
       "Name: revenue, dtype: float64"
      ]
     },
     "execution_count": 780,
     "metadata": {},
     "output_type": "execute_result"
    }
   ],
   "source": [
    "rich_user_count / df_a.query('revenue > 0').revenue.count()"
   ]
  },
  {
   "cell_type": "code",
   "execution_count": 781,
   "id": "55c3dce0",
   "metadata": {},
   "outputs": [
    {
     "data": {
      "text/plain": [
       "revenue    0.893708\n",
       "Name: revenue, dtype: float64"
      ]
     },
     "execution_count": 781,
     "metadata": {},
     "output_type": "execute_result"
    }
   ],
   "source": [
    "df_a.query('revenue > 30000').revenue.agg({'revenue': 'sum'}) / df_a.revenue.sum()"
   ]
  },
  {
   "cell_type": "markdown",
   "id": "4383c8fc",
   "metadata": {},
   "source": [
    "Получается, что:\n",
    "всего лишь 123 пользователя (6,37% платящих пользователей), принесший каждый в среднем 37319 денег, принесли 89,4% дохода всей группы (a)"
   ]
  },
  {
   "cell_type": "code",
   "execution_count": 782,
   "id": "0deec9f2",
   "metadata": {},
   "outputs": [
    {
     "data": {
      "text/plain": [
       "0.009539690157988749"
      ]
     },
     "execution_count": 782,
     "metadata": {},
     "output_type": "execute_result"
    }
   ],
   "source": [
    "#Доля платящих пользователей в группе (a)\n",
    "df_a.query('revenue > 0').revenue.count() / df_a.revenue.count()"
   ]
  },
  {
   "cell_type": "code",
   "execution_count": 783,
   "id": "5e3d261d",
   "metadata": {},
   "outputs": [
    {
     "data": {
      "text/plain": [
       "0.008906235351586593"
      ]
     },
     "execution_count": 783,
     "metadata": {},
     "output_type": "execute_result"
    }
   ],
   "source": [
    "#Доля платящих пользователей в группе (b)\n",
    "df_b.query('revenue > 0').revenue.count() / df_b.revenue.count()"
   ]
  },
  {
   "cell_type": "code",
   "execution_count": 784,
   "id": "4112ec4f",
   "metadata": {},
   "outputs": [
    {
     "data": {
      "text/plain": [
       "-0.0637966804979253"
      ]
     },
     "execution_count": 784,
     "metadata": {},
     "output_type": "execute_result"
    }
   ],
   "source": [
    "#Разница в процентах между суммами в группах платящих\n",
    "df_b.query('revenue > 0').revenue.count() / df_a.query('revenue > 0').revenue.count() - 1"
   ]
  },
  {
   "cell_type": "code",
   "execution_count": 785,
   "id": "bb46a839",
   "metadata": {},
   "outputs": [
    {
     "data": {
      "text/plain": [
       "0.055569216786999"
      ]
     },
     "execution_count": 785,
     "metadata": {},
     "output_type": "execute_result"
    }
   ],
   "source": [
    "#Разница в процентах между суммами в группах\n",
    "df_b.revenue.sum() / df_a.revenue.sum() - 1"
   ]
  },
  {
   "cell_type": "markdown",
   "id": "89421992",
   "metadata": {},
   "source": [
    "Доля платящих пользователей в обоих группах очень близка по значению, но количество платящих пользователей в группе b меньше на 6,37%, однако доход от группы b больше на 5,5%"
   ]
  },
  {
   "cell_type": "code",
   "execution_count": 786,
   "id": "328700a4",
   "metadata": {},
   "outputs": [
    {
     "name": "stderr",
     "output_type": "stream",
     "text": [
      "C:\\Users\\Alexei\\anaconda3\\lib\\site-packages\\seaborn\\distributions.py:2619: FutureWarning: `distplot` is a deprecated function and will be removed in a future version. Please adapt your code to use either `displot` (a figure-level function with similar flexibility) or `histplot` (an axes-level function for histograms).\n",
      "  warnings.warn(msg, FutureWarning)\n"
     ]
    },
    {
     "data": {
      "text/plain": [
       "<AxesSubplot:xlabel='revenue', ylabel='Density'>"
      ]
     },
     "execution_count": 786,
     "metadata": {},
     "output_type": "execute_result"
    },
    {
     "data": {
      "image/png": "[encoded data removed]",
      "text/plain": [
       "<Figure size 432x288 with 1 Axes>"
      ]
     },
     "metadata": {},
     "output_type": "display_data"
    }
   ],
   "source": [
    "#Гистограмма группы a\n",
    "sns.distplot(df_a.query('revenue > 0').revenue)"
   ]
  },
  {
   "cell_type": "code",
   "execution_count": 787,
   "id": "f3816a59",
   "metadata": {},
   "outputs": [
    {
     "name": "stderr",
     "output_type": "stream",
     "text": [
      "C:\\Users\\Alexei\\anaconda3\\lib\\site-packages\\seaborn\\distributions.py:2619: FutureWarning: `distplot` is a deprecated function and will be removed in a future version. Please adapt your code to use either `displot` (a figure-level function with similar flexibility) or `histplot` (an axes-level function for histograms).\n",
      "  warnings.warn(msg, FutureWarning)\n"
     ]
    },
    {
     "data": {
      "text/plain": [
       "<AxesSubplot:xlabel='revenue', ylabel='Density'>"
      ]
     },
     "execution_count": 787,
     "metadata": {},
     "output_type": "execute_result"
    },
    {
     "data": {
      "image/png": "[encoded data removed]",
      "text/plain": [
       "<Figure size 432x288 with 1 Axes>"
      ]
     },
     "metadata": {},
     "output_type": "display_data"
    }
   ],
   "source": [
    "#Гистограмма группы b\n",
    "sns.distplot(df_b.query('revenue > 0').revenue)"
   ]
  },
  {
   "cell_type": "code",
   "execution_count": 788,
   "id": "80264d75",
   "metadata": {},
   "outputs": [
    {
     "data": {
      "text/plain": [
       "<AxesSubplot:xlabel='testgroup', ylabel='revenue'>"
      ]
     },
     "execution_count": 788,
     "metadata": {},
     "output_type": "execute_result"
    },
    {
     "data": {
      "image/png": "[encoded data removed]",
      "text/plain": [
       "<Figure size 432x288 with 1 Axes>"
      ]
     },
     "metadata": {},
     "output_type": "display_data"
    }
   ],
   "source": [
    "sns.boxplot(data = df.query('revenue > 0'), x = 'testgroup', y = 'revenue')"
   ]
  },
  {
   "cell_type": "markdown",
   "id": "53cc019a",
   "metadata": {},
   "source": [
    "Получается, что:\n",
    "# Вывод на 1 вопрос:\n",
    "    Различия между группами явно выражены. Само распределение значений дохода в групаах совершенно разное: в группе a очень много недоходных пользователей и совсем немного сверхдоходных, а в группе b наоборот среднедоходные.\n",
    "    \n",
    "    Исходя из этого очень сложно отвечать на первый поставленный вопрос, какой же набор предложений лучше, потому что на основе выше проведенного анализа выборки кажутся нерепрезентативными. \n",
    "    \n",
    "    В идеальном случае: для корректного ответа на поставленный вопрос, необходимо заного сплитовать группы более качественно и провести новый A/B тест"
   ]
  },
  {
   "cell_type": "markdown",
   "id": "f985e062",
   "metadata": {},
   "source": [
    "# Какие метрики стоит проанализировать для принятия правильного решения и как?"
   ]
  },
  {
   "cell_type": "markdown",
   "id": "e08b36e2",
   "metadata": {},
   "source": [
    "Для выбора лучшего набор предложений будем сравнивать результаты тестов основываясь на метриках монетизации: \n",
    "\n",
    "ARPU ((Average revenue per user) - средний доход с пользователя), \n",
    "\n",
    "ARPPU ((Average revenue per paying user) - средний доход с платящего пользователя), \n",
    "\n",
    "CR ((Conversion Rate) - коэффициент конверсии пользователя в покупателя). "
   ]
  },
  {
   "cell_type": "code",
   "execution_count": 789,
   "id": "def63b14",
   "metadata": {},
   "outputs": [],
   "source": [
    "df_metrics = df"
   ]
  },
  {
   "cell_type": "code",
   "execution_count": 790,
   "id": "f8ffaec3",
   "metadata": {},
   "outputs": [],
   "source": [
    "df_metrics['paying'] = df_paying['revenue'].apply(lambda x: 1 if x > 0 else 0)\n",
    "df_c = df_metrics"
   ]
  },
  {
   "cell_type": "code",
   "execution_count": 791,
   "id": "39a7fa6f",
   "metadata": {},
   "outputs": [],
   "source": [
    "#Подсчет метрик по группам\n",
    "df_metrics = df_metrics.groupby('testgroup', as_index = False).agg(\n",
    "            user = ('user_id', 'count'),\n",
    "            paying_users = ('paying', 'sum'),\n",
    "            revenue = ('revenue', 'sum'))\n",
    "df_metrics['ARPU'] = df_metrics.revenue / df_metrics.user\n",
    "df_metrics['ARPPU'] = df_metrics.revenue / df_metrics.paying_users\n",
    "df_metrics['CR'] = (df_metrics.paying_users / df_metrics.user)*100"
   ]
  },
  {
   "cell_type": "code",
   "execution_count": 792,
   "id": "02d8d0be",
   "metadata": {},
   "outputs": [
    {
     "data": {
      "text/html": [
       "<div>\n",
       "<style scoped>\n",
       "    .dataframe tbody tr th:only-of-type {\n",
       "        vertical-align: middle;\n",
       "    }\n",
       "\n",
       "    .dataframe tbody tr th {\n",
       "        vertical-align: top;\n",
       "    }\n",
       "\n",
       "    .dataframe thead th {\n",
       "        text-align: right;\n",
       "    }\n",
       "</style>\n",
       "<table border=\"1\" class=\"dataframe\">\n",
       "  <thead>\n",
       "    <tr style=\"text-align: right;\">\n",
       "      <th></th>\n",
       "      <th>testgroup</th>\n",
       "      <th>user</th>\n",
       "      <th>paying_users</th>\n",
       "      <th>revenue</th>\n",
       "      <th>ARPU</th>\n",
       "      <th>ARPPU</th>\n",
       "      <th>CR</th>\n",
       "    </tr>\n",
       "  </thead>\n",
       "  <tbody>\n",
       "    <tr>\n",
       "      <th>0</th>\n",
       "      <td>a</td>\n",
       "      <td>202103</td>\n",
       "      <td>1928</td>\n",
       "      <td>5136189</td>\n",
       "      <td>25.413720</td>\n",
       "      <td>2663.998444</td>\n",
       "      <td>0.953969</td>\n",
       "    </tr>\n",
       "    <tr>\n",
       "      <th>1</th>\n",
       "      <td>b</td>\n",
       "      <td>202667</td>\n",
       "      <td>1805</td>\n",
       "      <td>5421603</td>\n",
       "      <td>26.751287</td>\n",
       "      <td>3003.658172</td>\n",
       "      <td>0.890624</td>\n",
       "    </tr>\n",
       "  </tbody>\n",
       "</table>\n",
       "</div>"
      ],
      "text/plain": [
       "  testgroup    user  paying_users  revenue       ARPU        ARPPU        CR\n",
       "0         a  202103          1928  5136189  25.413720  2663.998444  0.953969\n",
       "1         b  202667          1805  5421603  26.751287  3003.658172  0.890624"
      ]
     },
     "execution_count": 792,
     "metadata": {},
     "output_type": "execute_result"
    }
   ],
   "source": [
    "df_metrics"
   ]
  },
  {
   "cell_type": "markdown",
   "id": "8bc74a0c",
   "metadata": {},
   "source": [
    "Получается, что:\n",
    "    в группе b ARPU и ARPPU имеет немного значение выше чем в группе a, при этом CR имеет обратную характеристику."
   ]
  },
  {
   "cell_type": "markdown",
   "id": "c0831116",
   "metadata": {},
   "source": [
    "Для проверки значимости изменений в ключевых метриках (ARPU, ARPPU, CR):\n",
    "    \n",
    "    не будем использовать T-test Стьюдента по причине того, что распределение групп не является нормальным, а также из-за присутствия выбросов в данных.\n",
    "    \n",
    "    не будем использовать Mann–Whitney U test по причине того, что результаты сложно интерпретируемы для бизнеса, так как сравнивает не средние значения, а их ранги.\n",
    "    \n",
    "    будем использовать Bootstrap по причине того, что он менее требователен к данным и за счет созданий подвыборок нивелируется влияние выбросов.\n",
    "    "
   ]
  },
  {
   "cell_type": "code",
   "execution_count": 793,
   "id": "78dc12b3",
   "metadata": {},
   "outputs": [],
   "source": [
    "# Функция из лекции\n",
    "\n",
    "def get_bootstrap(\n",
    "    data_column_1, # числовые значения первой выборки\n",
    "    data_column_2, # числовые значения второй выборки\n",
    "    boot_it = 1000, # количество бутстрэп-подвыборок\n",
    "    statistic = np.mean, # интересующая нас статистика\n",
    "    bootstrap_conf_level = 0.95 # уровень значимости\n",
    "):\n",
    "    boot_len = max([len(data_column_1), len(data_column_2)])\n",
    "    boot_data = []\n",
    "    for i in tqdm(range(boot_it)): # извлекаем подвыборки\n",
    "        samples_1 = data_column_1.sample(\n",
    "            boot_len, \n",
    "            replace = True # параметр возвращения\n",
    "        ).values\n",
    "        \n",
    "        samples_2 = data_column_2.sample(\n",
    "            boot_len, # чтобы сохранить дисперсию, берем такой же размер выборки\n",
    "            replace = True\n",
    "        ).values\n",
    "        \n",
    "        boot_data.append(statistic(samples_1-samples_2)) \n",
    "    pd_boot_data = pd.DataFrame(boot_data)\n",
    "        \n",
    "    left_quant = (1 - bootstrap_conf_level)/2\n",
    "    right_quant = 1 - (1 - bootstrap_conf_level) / 2\n",
    "    quants = pd_boot_data.quantile([left_quant, right_quant])\n",
    "        \n",
    "    p_1 = norm.cdf(\n",
    "        x = 0, \n",
    "        loc = np.mean(boot_data), \n",
    "        scale = np.std(boot_data)\n",
    "    )\n",
    "    p_2 = norm.cdf(\n",
    "        x = 0, \n",
    "        loc = -np.mean(boot_data), \n",
    "        scale = np.std(boot_data)\n",
    "    )\n",
    "    p_value = min(p_1, p_2) * 2\n",
    "        \n",
    "    # Визуализация\n",
    "    _, _, bars = plt.hist(pd_boot_data[0], bins = 50)\n",
    "    for bar in bars:\n",
    "        if abs(bar.get_x()) <= quants.iloc[0][0] or abs(bar.get_x()) >= quants.iloc[1][0]:\n",
    "            bar.set_facecolor('red')\n",
    "        else: \n",
    "            bar.set_facecolor('grey')\n",
    "            bar.set_edgecolor('black')\n",
    "    \n",
    "    plt.style.use('ggplot')\n",
    "    plt.vlines(quants,ymin=0,ymax=50,linestyle='--')\n",
    "    plt.xlabel('boot_data')\n",
    "    plt.ylabel('frequency')\n",
    "    plt.title(\"Histogram of boot_data\")\n",
    "    plt.show()\n",
    "       \n",
    "    return {\"boot_data\": boot_data, \n",
    "            \"quants\": quants, \n",
    "            \"p_value\": p_value}"
   ]
  },
  {
   "cell_type": "code",
   "execution_count": 794,
   "id": "aa9758b7",
   "metadata": {},
   "outputs": [],
   "source": [
    "df_bootstrap = df.copy()"
   ]
  },
  {
   "cell_type": "code",
   "execution_count": 795,
   "id": "e090ff81",
   "metadata": {},
   "outputs": [
    {
     "data": {
      "application/vnd.jupyter.widget-view+json": {
       "model_id": "f18163350da74bedaad3c0ee64100826",
       "version_major": 2,
       "version_minor": 0
      },
      "text/plain": [
       "  0%|          | 0/1000 [00:00<?, ?it/s]"
      ]
     },
     "metadata": {},
     "output_type": "display_data"
    },
    {
     "data": {
      "image/png": "[encoded data removed]",
      "text/plain": [
       "<Figure size 432x288 with 1 Axes>"
      ]
     },
     "metadata": {},
     "output_type": "display_data"
    }
   ],
   "source": [
    "ARPU_bootstrap = get_bootstrap(df_bootstrap.query('testgroup == \"a\"').revenue, df_bootstrap.query('testgroup == \"b\"').revenue,\n",
    "                              boot_it = 1000, statistic = np.mean)"
   ]
  },
  {
   "cell_type": "code",
   "execution_count": 796,
   "id": "e5b0c62c",
   "metadata": {},
   "outputs": [
    {
     "data": {
      "text/plain": [
       "0.5666879380855852"
      ]
     },
     "execution_count": 796,
     "metadata": {},
     "output_type": "execute_result"
    }
   ],
   "source": [
    "ARPU_bootstrap[\"p_value\"]"
   ]
  },
  {
   "cell_type": "markdown",
   "id": "52b0a017",
   "metadata": {},
   "source": [
    "Получается, что:\n",
    "\n",
    "    ARPU p-value > 0.05, при этом находится в доверительном интервале => Статистически значимых различий нет."
   ]
  },
  {
   "cell_type": "code",
   "execution_count": 797,
   "id": "28743a1a",
   "metadata": {},
   "outputs": [
    {
     "data": {
      "application/vnd.jupyter.widget-view+json": {
       "model_id": "270086c74e6d413f8413f750e5b079ec",
       "version_major": 2,
       "version_minor": 0
      },
      "text/plain": [
       "  0%|          | 0/1000 [00:00<?, ?it/s]"
      ]
     },
     "metadata": {},
     "output_type": "display_data"
    },
    {
     "data": {
      "image/png": "[encoded data removed]",
      "text/plain": [
       "<Figure size 432x288 with 1 Axes>"
      ]
     },
     "metadata": {},
     "output_type": "display_data"
    }
   ],
   "source": [
    "ARPPU_bootstrap = get_bootstrap(df_bootstrap.query('testgroup == \"a\" & revenue > 0').revenue, df_bootstrap.query('testgroup == \"b\" & revenue > 0').revenue,\n",
    "                              boot_it = 1000, statistic = np.mean)"
   ]
  },
  {
   "cell_type": "code",
   "execution_count": 798,
   "id": "e7d1f3fb",
   "metadata": {},
   "outputs": [
    {
     "data": {
      "text/plain": [
       "0.11012207026663258"
      ]
     },
     "execution_count": 798,
     "metadata": {},
     "output_type": "execute_result"
    }
   ],
   "source": [
    "ARPPU_bootstrap[\"p_value\"]"
   ]
  },
  {
   "cell_type": "markdown",
   "id": "c66e4255",
   "metadata": {},
   "source": [
    "Получается, что:\n",
    "    \n",
    "    ARPPU p-value > 0.05, при этом находится в доверительном интервале => Статистически значимых различий нет."
   ]
  },
  {
   "cell_type": "code",
   "execution_count": 799,
   "id": "6d20c008",
   "metadata": {},
   "outputs": [],
   "source": [
    "CR_a = df_c.groupby('testgroup').agg(nopaying = ('paying', 'count'), paying = ('paying', 'sum'))"
   ]
  },
  {
   "cell_type": "code",
   "execution_count": 800,
   "id": "9f89df09",
   "metadata": {},
   "outputs": [],
   "source": [
    "CR_a_1 = CR_a.query('testgroup == \"a\"')"
   ]
  },
  {
   "cell_type": "code",
   "execution_count": 801,
   "id": "f9db581f",
   "metadata": {},
   "outputs": [
    {
     "data": {
      "text/html": [
       "<div>\n",
       "<style scoped>\n",
       "    .dataframe tbody tr th:only-of-type {\n",
       "        vertical-align: middle;\n",
       "    }\n",
       "\n",
       "    .dataframe tbody tr th {\n",
       "        vertical-align: top;\n",
       "    }\n",
       "\n",
       "    .dataframe thead th {\n",
       "        text-align: right;\n",
       "    }\n",
       "</style>\n",
       "<table border=\"1\" class=\"dataframe\">\n",
       "  <thead>\n",
       "    <tr style=\"text-align: right;\">\n",
       "      <th></th>\n",
       "      <th>nopaying</th>\n",
       "      <th>paying</th>\n",
       "    </tr>\n",
       "    <tr>\n",
       "      <th>testgroup</th>\n",
       "      <th></th>\n",
       "      <th></th>\n",
       "    </tr>\n",
       "  </thead>\n",
       "  <tbody>\n",
       "    <tr>\n",
       "      <th>a</th>\n",
       "      <td>202103</td>\n",
       "      <td>1928</td>\n",
       "    </tr>\n",
       "  </tbody>\n",
       "</table>\n",
       "</div>"
      ],
      "text/plain": [
       "           nopaying  paying\n",
       "testgroup                  \n",
       "a            202103    1928"
      ]
     },
     "execution_count": 801,
     "metadata": {},
     "output_type": "execute_result"
    }
   ],
   "source": [
    "CR_a_1"
   ]
  },
  {
   "cell_type": "code",
   "execution_count": 802,
   "id": "a6ebb4ac",
   "metadata": {},
   "outputs": [],
   "source": [
    "CR_b_1 = CR_a.query('testgroup == \"b\"')"
   ]
  },
  {
   "cell_type": "code",
   "execution_count": 803,
   "id": "cce9c530",
   "metadata": {},
   "outputs": [
    {
     "data": {
      "application/vnd.jupyter.widget-view+json": {
       "model_id": "61171a0ffcb0484881c0897736d730a4",
       "version_major": 2,
       "version_minor": 0
      },
      "text/plain": [
       "  0%|          | 0/1000 [00:00<?, ?it/s]"
      ]
     },
     "metadata": {},
     "output_type": "display_data"
    },
    {
     "name": "stderr",
     "output_type": "stream",
     "text": [
      "C:\\Users\\Alexei\\anaconda3\\lib\\site-packages\\scipy\\stats\\_distn_infrastructure.py:1953: RuntimeWarning: divide by zero encountered in double_scalars\n",
      "  x = np.asarray((x - loc)/scale, dtype=dtyp)\n"
     ]
    },
    {
     "data": {
      "image/png": "[encoded data removed]",
      "text/plain": [
       "<Figure size 432x288 with 1 Axes>"
      ]
     },
     "metadata": {},
     "output_type": "display_data"
    }
   ],
   "source": [
    "cr_bootstrap = get_bootstrap(CR_a_1, CR_b_1 ,\n",
    "                              boot_it = 1000, statistic = np.mean)"
   ]
  },
  {
   "cell_type": "markdown",
   "id": "6cd3e4e4",
   "metadata": {},
   "source": [
    "Поскольку для CR bootstrap не подходит, воспользуемся методом хи-квадрат"
   ]
  },
  {
   "cell_type": "code",
   "execution_count": 804,
   "id": "d889a791",
   "metadata": {},
   "outputs": [
    {
     "data": {
      "text/plain": [
       "0.03824373651044168"
      ]
     },
     "execution_count": 804,
     "metadata": {},
     "output_type": "execute_result"
    }
   ],
   "source": [
    "stat, p, dof, expected = scipy.stats.chi2_contingency(CR_a)\n",
    "p"
   ]
  },
  {
   "cell_type": "markdown",
   "id": "7ace3e17",
   "metadata": {},
   "source": [
    "Получается, что:\n",
    "\n",
    "    CR p-value < 0.05 => Различия являются статистически значимыми"
   ]
  },
  {
   "cell_type": "markdown",
   "id": "99ee78c8",
   "metadata": {},
   "source": [
    "# Вывод на 2 вопрос:\n",
    "    Для принятия решения были проанализированы метрики ARPU, ARPPU, CR (см. анализ выше). Основываясь на этом анализе, несмотря на статистически незначимые различия в обоих группах по метрикам ARPU и ARPPU, результат конверсии в покупку CR статистически значимый, причем CR в группе (a) ощутимо выше, чем в группе (b), набор предложений из группы (a) выглядит немного более привлекательным. Но поскольку в группе a достаточно высокие выбросы, а также очень разная прослойка пользователей в обоих группах (в группе (a) либо нет покупок, либо малое количество пользователей покупает на суммарно высокие суммы, в группе (b) почти все пользователи по суммам покупок лежат в диапазоне от 2000 до 5000) и поэтому хочется пересплитовать данные по новому и снова провести A/B тест, для того чтобы окончательно принять максимально верное решение."
   ]
  },
  {
   "cell_type": "markdown",
   "id": "ec00d3d1",
   "metadata": {},
   "source": [
    "# Задание 3\n",
    "1) В игре Plants & Gardens каждый месяц проводятся тематические события, ограниченные по времени. В них игроки могут получить уникальные предметы для сада и персонажей, дополнительные монеты или бонусы. Для получения награды требуется пройти ряд уровней за определенное время. С помощью каких метрик можно оценить результаты последнего прошедшего события?\n",
    "\n",
    "2) Предположим, в другом событии мы усложнили механику событий так, что при каждой неудачной попытке выполнения уровня игрок будет откатываться на несколько уровней назад. Изменится ли набор метрик оценки результата? Если да, то как?\n",
    "\n"
   ]
  },
  {
   "cell_type": "markdown",
   "id": "fc5ef71b",
   "metadata": {},
   "source": [
    "\n",
    "--------------------------------------------------------------------------------------------------------------------------------\n",
    "1) Подобные тематические события (ивенты) проводятся для того, чтобы повышать вовлеченность и удерживать пользователей, чтобы в итоге это отразилось на более высоких доходах. Метрики необходимы для того, чтобы оценить качественные показатели тех или иных изменений.\n",
    "\n",
    "Поскольку тематические события проводятся раз в месяц, то необходима метрика:\n",
    "    \n",
    "        MAU (Monthly Active Users) - количество уникальных пользователей за месяц без учета повторных сессий.\n",
    "            \n",
    "Данная метрика будет показывать общую ситуацию в продукте и прирост или сокращение активных уникальных пользователей. Но на только одну данную метрику нельзя полагаться для принятия решения, поскольку если идет постоянный приток новых пользователей, то MAU будет расти, но это не гарантирует повышение других денежных метрик и суммарного дохода от игры в целом.\n",
    "        \n",
    "Поскольку в рамках тематического события необходимо удерживать пользователей, то необходима метрика:\n",
    "    \n",
    "       RR (Retention rate) - коэффициент удержания пользователей.\n",
    "       \n",
    "Данная метрика будет показывать как хорошо каждый ивент удерживает пользователей (насколько много пользователей возвращается в игру), если метрика будет показывать низкие значения относительно предыдущих тематических событий, то это будет напрямую говорить о том, что необходимо что-то подправлять в текущем ивенте.\n",
    "        \n",
    "Также понадобятся следующие метрики:\n",
    "    \n",
    "        SR (Stickiness ratio) - коэффициент частоты, с которой пользователь взаимодействует с продуктом. SR = DAU/MAU. \n",
    "        \n",
    "        \n",
    "        Event CR (Event Conversion Rate) - коэффициент конверсии участия пользователей в событии. \n",
    "        \n",
    "Данная метрика будет показывать как много пользователей из всех участвуют в тематическом событии, чем больше показатель, тем больше вовлеченность пользователей\n",
    "        \n",
    "        ASD (Average Session Duration) - это среднее время сессий за определенное время. \n",
    "        \n",
    "Данная метрика будет нужна для оценки того, сработала ли вообще идея ивента - увеличилось ли время в игре проводимое пользователями или нет?\n",
    "        \n",
    "        CR (из начала прохождения ТС в получение бонусов) - коэффициент конверсии, как много пользователей прошли весь ивент и получили бонусы.\n",
    "        \n",
    "Если ивент будет очень сложный, то немного пользователей дойдут до конца и получат бонусы, поэтому для таких характеристик очень полезная метрика.\n",
    "        \n",
    "        ARPU & ARPPU (Average Revenue per User & Average Revenue per Paying  User) - средний доход на пользователя & средний доход на платящего пользователя. \n",
    "        \n",
    "Основные метрики, ради которых и проводятся все мероприятия. Эти метрики показывают, повлияло ли проведение тематического события на увеличение средней доходности от пользователей."
   ]
  },
  {
   "cell_type": "markdown",
   "id": "18cc5ea2",
   "metadata": {},
   "source": [
    "\n",
    "--------------------------------------------------------------------------------------------------------------------------------\n",
    "2) Если усложняется механизм прохождения ивента, то всё равно выше описанные метрики остаются актуальными, но для более точных оценок требуется сравнение метрик ДО внедрения усложненного механизма и ПОСЛЕ, чтобы более эффективно оценить влияние усложнение механизма прохождения тематического события.  \n"
   ]
  },
  {
   "cell_type": "code",
   "execution_count": null,
   "id": "d29e0d91",
   "metadata": {},
   "outputs": [],
   "source": []
  }
 ],
 "metadata": {
  "kernelspec": {
   "display_name": "Python 3 (ipykernel)",
   "language": "python",
   "name": "python3"
  },
  "language_info": {
   "codemirror_mode": {
    "name": "ipython",
    "version": 3
   },
   "file_extension": ".py",
   "mimetype": "text/x-python",
   "name": "python",
   "nbconvert_exporter": "python",
   "pygments_lexer": "ipython3",
   "version": "3.9.12"
  }
 },
 "nbformat": 4,
 "nbformat_minor": 5
}
